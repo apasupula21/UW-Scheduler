{
 "cells": [
  {
   "cell_type": "code",
   "execution_count": 8,
   "id": "c0efccdf",
   "metadata": {},
   "outputs": [],
   "source": [
    "import sqlite3"
   ]
  },
  {
   "cell_type": "code",
   "execution_count": 9,
   "id": "0b177107",
   "metadata": {},
   "outputs": [],
   "source": [
    "connection = sqlite3.connect('application.db')\n",
    "cursor = connection.cursor()"
   ]
  },
  {
   "cell_type": "code",
   "execution_count": 10,
   "id": "b347e067",
   "metadata": {},
   "outputs": [],
   "source": [
    "cursor.execute('''\n",
    "        CREATE TABLE IF NOT EXISTS USERS\n",
    "        (\n",
    "            ID INTEGER PRIMARY KEY AUTOINCREMENT,\n",
    "            EMAIL TEXT NOT NULL\n",
    "            NAME TEXT NOT NULL\n",
    "        );\n",
    "''')\n",
    "\n",
    "cursor.execute('''\n",
    "        CREATE TABLE IF NOT EXISTS CLASSES\n",
    "        (\n",
    "            ID INTEGER PRIMARY KEY AUTOINCREMENT, \n",
    "            DEPT TEXT,\n",
    "            CLASS_NUM INTEGER,\n",
    "            NUM_ENROLLED INT\n",
    "        );\n",
    "''')\n",
    "\n",
    "cursor.execute('''\n",
    "        CREATE TABLE IF NOT EXISTS USER_CLASSES\n",
    "        (\n",
    "            ID INTEGER PRIMARY KEY AUTOINCREMENT,\n",
    "            USER_ID INTEGER,\n",
    "            CLASS_ID INTEGER\n",
    "        );\n",
    "''')\n",
    "\n",
    "connection.commit()\n",
    "connection.close()"
   ]
  }
 ],
 "metadata": {
  "kernelspec": {
   "display_name": "Python 3 (ipykernel)",
   "language": "python",
   "name": "python3"
  },
  "language_info": {
   "codemirror_mode": {
    "name": "ipython",
    "version": 3
   },
   "file_extension": ".py",
   "mimetype": "text/x-python",
   "name": "python",
   "nbconvert_exporter": "python",
   "pygments_lexer": "ipython3",
   "version": "3.9.13"
  }
 },
 "nbformat": 4,
 "nbformat_minor": 5
}
