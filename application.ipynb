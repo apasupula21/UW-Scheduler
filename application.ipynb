{
 "cells": [
  {
   "cell_type": "code",
   "execution_count": null,
   "id": "5a5b4786",
   "metadata": {},
   "outputs": [],
   "source": [
    "from flask import Flask, jsonify, request\n",
    "import sqlite3\n",
    "import traceback\n",
    "\n",
    "app = Flask(__name__)\n",
    "\n",
    "database = 'application.db'\n",
    "\n",
    "def connect_to_database():\n",
    "    return sqlite3.connect(database)\n",
    "\n",
    "def createAcct():\n",
    "    conn = connect_to_database()\n",
    "    cursor = conn.cursor()\n",
    "    try:\n",
    "        data = request.get_json()\n",
    "        email = data[\"email\"]\n",
    "\n",
    "        cursor.execute(\"SELECT COUNT(*) FROM USERS WHERE USER_EMAIL = ?\", (email,))\n",
    "        count = cursor.fetchone()[0]\n",
    "\n",
    "        if count >=1:\n",
    "            conn.close()\n",
    "            return jsonify({\"error\": \"email already exists\"}), 409\n",
    "        \n",
    "        cursor.execute(\"INSERT INTO USERS (USER_EMAIL) VALUES (?)\", (email,))\n",
    "        conn.commit()\n",
    "        conn.close()\n",
    "        return jsonify({\"message\": \"success\"}), 200\n",
    "    except Exception:\n",
    "        conn.close()\n",
    "        return jsonify({\"error\": \"failure\"}), 400 \n",
    "    \n",
    "def addClasses():\n",
    "    conn = connect_to_database()\n",
    "    cursor = conn.cursor()\n",
    "    \n",
    "    try:\n",
    "        data = rquest.get_json()\n",
    "        classes = data['classes']\n",
    "        email = data['email']\n",
    "        \n",
    "        cursor.execute(\"SELECT COUNT(*) FROM USERS WHERE USER_EMAIL = ?\", (email,))\n",
    "        count = cursor.fetchone()[0]\n",
    "        \n",
    "        if (count != 1):\n",
    "            conn.close()\n",
    "            return jsonify({\"error\": \"Error finding email\"}), 409\n",
    "        \n",
    "        "
   ]
  }
 ],
 "metadata": {
  "kernelspec": {
   "display_name": "Python 3 (ipykernel)",
   "language": "python",
   "name": "python3"
  },
  "language_info": {
   "codemirror_mode": {
    "name": "ipython",
    "version": 3
   },
   "file_extension": ".py",
   "mimetype": "text/x-python",
   "name": "python",
   "nbconvert_exporter": "python",
   "pygments_lexer": "ipython3",
   "version": "3.11.5"
  }
 },
 "nbformat": 4,
 "nbformat_minor": 5
}
